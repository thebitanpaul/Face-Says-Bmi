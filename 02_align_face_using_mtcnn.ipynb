{
 "cells": [
  {
   "cell_type": "code",
   "execution_count": 1,
   "metadata": {
    "ExecuteTime": {
     "end_time": "2020-07-24T09:54:23.514776Z",
     "start_time": "2020-07-24T09:54:23.507891Z"
    }
   },
   "outputs": [
    {
     "data": {
      "text/plain": [
       "['Kim Jong-un.jpg',\n",
       " 'hilary_clinton.jpg',\n",
       " 'barack-obama.jpg',\n",
       " 'emma_watson.jpg',\n",
       " 'kent_zheng.jpg',\n",
       " 'albert-einstein.jpg',\n",
       " 'bill-gates.jpg',\n",
       " 'leonardo.jpeg',\n",
       " 'trump.jpg',\n",
       " 'xi.jpg']"
      ]
     },
     "execution_count": 1,
     "metadata": {},
     "output_type": "execute_result"
    }
   ],
   "source": [
    "# ! pip install mtcnn\n",
    "from mtcnn.mtcnn import MTCNN\n",
    "import cv2\n",
    "import os\n",
    "\n",
    "test_dir = '/Users/bitanpaul/Documents/GitHub/face2bmi/data/test/single_face/'\n",
    "train_dir = '/Users/bitanpaul/Documents/GitHub/face2bmi/data/face/'\n",
    "test_processed_dir = '/Users/bitanpaul/Documents/GitHub/face2bmi/data/test/test_aligned/'\n",
    "train_processed_dir = '/Users/bitanpaul/Documents/GitHub/face2bmi/data/face_aligned/'\n",
    "\n",
    "os.listdir(test_dir)"
   ]
  },
  {
   "cell_type": "code",
   "execution_count": 2,
   "metadata": {
    "ExecuteTime": {
     "end_time": "2020-07-24T09:54:25.949733Z",
     "start_time": "2020-07-24T09:54:24.440679Z"
    }
   },
   "outputs": [
    {
     "name": "stdout",
     "output_type": "stream",
     "text": [
      "1/1 [==============================] - 0s 218ms/step\n",
      "1/1 [==============================] - 0s 127ms/step\n",
      "1/1 [==============================] - 0s 42ms/step\n",
      "1/1 [==============================] - 0s 30ms/step\n",
      "1/1 [==============================] - 0s 26ms/step\n",
      "1/1 [==============================] - 0s 24ms/step\n",
      "1/1 [==============================] - 0s 23ms/step\n",
      "1/1 [==============================] - 0s 22ms/step\n",
      "1/1 [==============================] - 0s 23ms/step\n",
      "1/1 [==============================] - 0s 22ms/step\n",
      "2/2 [==============================] - 0s 11ms/step\n",
      "1/1 [==============================] - 0s 148ms/step\n",
      "[{'box': [355, 75, 266, 347], 'confidence': 0.9983004927635193, 'keypoints': {'left_eye': (432, 209), 'right_eye': (551, 208), 'nose': (492, 276), 'mouth_left': (445, 346), 'mouth_right': (544, 347)}}]\n",
      "1/1 [==============================] - 0s 75ms/step\n",
      "1/1 [==============================] - 0s 50ms/step\n",
      "1/1 [==============================] - 0s 35ms/step\n",
      "1/1 [==============================] - 0s 31ms/step\n",
      "1/1 [==============================] - 0s 26ms/step\n",
      "1/1 [==============================] - 0s 22ms/step\n",
      "1/1 [==============================] - 0s 22ms/step\n",
      "1/1 [==============================] - 0s 22ms/step\n",
      "1/1 [==============================] - 0s 28ms/step\n",
      "1/1 [==============================] - 0s 26ms/step\n",
      "2/2 [==============================] - 0s 17ms/step\n",
      "1/1 [==============================] - 0s 31ms/step\n"
     ]
    }
   ],
   "source": [
    "img = cv2.cvtColor(cv2.imread(test_dir + 'trump.jpg'), cv2.COLOR_BGR2RGB)\n",
    "detector = MTCNN()\n",
    "print(detector.detect_faces(img))\n",
    "box = detector.detect_faces(img)[0]"
   ]
  },
  {
   "cell_type": "code",
   "execution_count": 4,
   "metadata": {},
   "outputs": [
    {
     "name": "stdout",
     "output_type": "stream",
     "text": [
      "Collecting git+https://github.com/rcmalli/keras-vggface.git\n",
      "  Cloning https://github.com/rcmalli/keras-vggface.git to /private/var/folders/ym/7cfx8d2d7mv9xbvqp1zs8dv40000gn/T/pip-req-build-wr8urusx\n",
      "  Running command git clone -q https://github.com/rcmalli/keras-vggface.git /private/var/folders/ym/7cfx8d2d7mv9xbvqp1zs8dv40000gn/T/pip-req-build-wr8urusx\n",
      "Requirement already satisfied: numpy>=1.9.1 in /opt/anaconda3/lib/python3.8/site-packages (from keras-vggface==0.6) (1.22.4)\n",
      "Requirement already satisfied: scipy>=0.14 in /opt/anaconda3/lib/python3.8/site-packages (from keras-vggface==0.6) (1.6.2)\n",
      "Requirement already satisfied: h5py in /opt/anaconda3/lib/python3.8/site-packages (from keras-vggface==0.6) (2.10.0)\n",
      "Requirement already satisfied: pillow in /opt/anaconda3/lib/python3.8/site-packages (from keras-vggface==0.6) (8.2.0)\n",
      "Requirement already satisfied: keras in /opt/anaconda3/lib/python3.8/site-packages (from keras-vggface==0.6) (2.9.0)\n",
      "Requirement already satisfied: six>=1.9.0 in /opt/anaconda3/lib/python3.8/site-packages (from keras-vggface==0.6) (1.15.0)\n",
      "Requirement already satisfied: pyyaml in /opt/anaconda3/lib/python3.8/site-packages (from keras-vggface==0.6) (5.4.1)\n",
      "Requirement already satisfied: keras_applications in /opt/anaconda3/lib/python3.8/site-packages (1.0.8)\n"
     ]
    }
   ],
   "source": [
    "! pip install git+https://github.com/rcmalli/keras-vggface.git\n",
    "!pip install keras_applications --no-deps\n",
    "filename = \"/Users/bitanpaul/Documents/GitHub/face2bmi/scripts/models.py\"\n",
    "text = open(filename).read()\n",
    "open(filename, \"w+\").write(text.replace('keras.engine.topology', 'tensorflow.keras.utils'))\n",
    "import tensorflow as tf\n",
    "\n",
    "from keras_vggface.vggface import VGGFace\n",
    "\n",
    "vggface = VGGFace(model='resnet50') # or VGGFace() as default"
   ]
  },
  {
   "cell_type": "code",
   "execution_count": 7,
   "metadata": {
    "ExecuteTime": {
     "end_time": "2020-07-24T09:54:25.966368Z",
     "start_time": "2020-07-24T09:54:25.952091Z"
    }
   },
   "outputs": [
    {
     "name": "stdout",
     "output_type": "stream",
     "text": [
      "Requirement already satisfied: Image in /opt/anaconda3/lib/python3.8/site-packages (1.5.33)\n",
      "Requirement already satisfied: django in /opt/anaconda3/lib/python3.8/site-packages (from Image) (4.1)\n",
      "Requirement already satisfied: pillow in /opt/anaconda3/lib/python3.8/site-packages (from Image) (8.2.0)\n",
      "Requirement already satisfied: six in /opt/anaconda3/lib/python3.8/site-packages (from Image) (1.15.0)\n",
      "Requirement already satisfied: backports.zoneinfo in /opt/anaconda3/lib/python3.8/site-packages (from django->Image) (0.2.1)\n",
      "Requirement already satisfied: sqlparse>=0.2.2 in /opt/anaconda3/lib/python3.8/site-packages (from django->Image) (0.4.2)\n",
      "Requirement already satisfied: asgiref<4,>=3.5.2 in /opt/anaconda3/lib/python3.8/site-packages (from django->Image) (3.5.2)\n"
     ]
    }
   ],
   "source": [
    "# ! pip install keras_vggface\n",
    "# ! pip install utils\n",
    "# ! pip install keras_applications\n",
    "# ! pip install Image\n",
    "# ! pip install numpy\n",
    "# ! pip install matplotlib\n",
    "# ! pip install topology\n",
    "# ! pip install tensorflow\n",
    "# ! pip install tf-nightly\n",
    "\n",
    "from keras.layers import Input, Lambda, Dense, Flatten\n",
    "from keras.models import Model\n",
    "from keras.applications.vgg16 import VGG16\n",
    "from keras.applications.vgg16 import preprocess_input\n",
    "from keras.preprocessing import image\n",
    "from keras.preprocessing.image import ImageDataGenerator\n",
    "from keras.models import Sequential\n",
    "import numpy as np\n",
    "from glob import glob\n",
    "import matplotlib.pyplot as plt\n",
    "from PIL import Image\n",
    "import matplotlib.patches as patches\n",
    "\n",
    "\n",
    "\n",
    "def crop_img(im,x,y,w,h):\n",
    "    return im[y:(y+h),x:(x+w),:]\n",
    "\n",
    "def detect_face(face_path):\n",
    "    img = cv2.cvtColor(cv2.imread(face_path), cv2.COLOR_BGR2RGB)\n",
    "    box = detector.detect_faces(img)[0]\n",
    "    return box\n",
    "\n",
    "def detect_faces(face_path):\n",
    "    #img = cv2.cvtColor(cv2.imread(face_path), cv2.COLOR_BGR2RGB)\n",
    "    img = image.load_img(face_path)\n",
    "    img = image.img_to_array(img)\n",
    "    box = detector.detect_faces(img)\n",
    "    return box\n",
    "\n",
    "def draw_box(face_path = '/Users/bitanpaul/Documents/GitHub/face2bmi/data/test/trump.jpg', plot = True):\n",
    "    \n",
    "    boxes = detect_faces(face_path)\n",
    "    im = np.array(Image.open(face_path), dtype=np.uint8)\n",
    "    \n",
    "    if plot:\n",
    "        # Create figure and axes\n",
    "        num_box = len(boxes)\n",
    "        fig,ax = plt.subplots(1, (1 + num_box))\n",
    "        fig.set_size_inches(4 * (1 + num_box),4)\n",
    "        # Display the image\n",
    "        ax[0].imshow(im)\n",
    "        ax[0].axis('off')\n",
    "        # Create a Rectangle patch\n",
    "        for idx, box in enumerate(boxes):\n",
    "            box_x, box_y, box_w, box_h = box['box']\n",
    "            rect = patches.Rectangle((box_x, box_y), box_w, box_h, linewidth=1,edgecolor='r',facecolor='none')\n",
    "            ax[0].add_patch(rect)\n",
    "            ax[0].text(box_x, box_y, '{:3.2f}'.format(box['confidence']))\n",
    "            for i in box['keypoints'].keys():\n",
    "                circle = patches.Circle(box['keypoints'][i], radius = 5, color = 'red')\n",
    "                ax[0].add_patch(circle)\n",
    "            ax[1 + idx].imshow(crop_img(im, *box['box']))\n",
    "            ax[1 + idx].axis('off')\n",
    "        plt.show()\n",
    "    \n",
    "    res = [crop_img(im, *box['box']) for box in boxes]\n",
    "    \n",
    "    return res"
   ]
  },
  {
   "cell_type": "code",
   "execution_count": 8,
   "metadata": {
    "ExecuteTime": {
     "end_time": "2020-07-24T09:54:26.487145Z",
     "start_time": "2020-07-24T09:54:25.968877Z"
    }
   },
   "outputs": [
    {
     "ename": "AttributeError",
     "evalue": "module 'keras.preprocessing.image' has no attribute 'load_img'",
     "output_type": "error",
     "traceback": [
      "\u001b[0;31m---------------------------------------------------------------------------\u001b[0m",
      "\u001b[0;31mAttributeError\u001b[0m                            Traceback (most recent call last)",
      "\u001b[0;32m<ipython-input-8-55641975a640>\u001b[0m in \u001b[0;36m<module>\u001b[0;34m\u001b[0m\n\u001b[0;32m----> 1\u001b[0;31m \u001b[0mres\u001b[0m \u001b[0;34m=\u001b[0m \u001b[0mdraw_box\u001b[0m\u001b[0;34m(\u001b[0m\u001b[0mtest_dir\u001b[0m \u001b[0;34m+\u001b[0m \u001b[0;34m'trump.jpg'\u001b[0m\u001b[0;34m)\u001b[0m\u001b[0;34m\u001b[0m\u001b[0;34m\u001b[0m\u001b[0m\n\u001b[0m",
      "\u001b[0;32m<ipython-input-7-69c416b45bf4>\u001b[0m in \u001b[0;36mdraw_box\u001b[0;34m(face_path, plot)\u001b[0m\n\u001b[1;32m     41\u001b[0m \u001b[0;32mdef\u001b[0m \u001b[0mdraw_box\u001b[0m\u001b[0;34m(\u001b[0m\u001b[0mface_path\u001b[0m \u001b[0;34m=\u001b[0m \u001b[0;34m'/Users/bitanpaul/Documents/GitHub/face2bmi/data/test/trump.jpg'\u001b[0m\u001b[0;34m,\u001b[0m \u001b[0mplot\u001b[0m \u001b[0;34m=\u001b[0m \u001b[0;32mTrue\u001b[0m\u001b[0;34m)\u001b[0m\u001b[0;34m:\u001b[0m\u001b[0;34m\u001b[0m\u001b[0;34m\u001b[0m\u001b[0m\n\u001b[1;32m     42\u001b[0m \u001b[0;34m\u001b[0m\u001b[0m\n\u001b[0;32m---> 43\u001b[0;31m     \u001b[0mboxes\u001b[0m \u001b[0;34m=\u001b[0m \u001b[0mdetect_faces\u001b[0m\u001b[0;34m(\u001b[0m\u001b[0mface_path\u001b[0m\u001b[0;34m)\u001b[0m\u001b[0;34m\u001b[0m\u001b[0;34m\u001b[0m\u001b[0m\n\u001b[0m\u001b[1;32m     44\u001b[0m     \u001b[0mim\u001b[0m \u001b[0;34m=\u001b[0m \u001b[0mnp\u001b[0m\u001b[0;34m.\u001b[0m\u001b[0marray\u001b[0m\u001b[0;34m(\u001b[0m\u001b[0mImage\u001b[0m\u001b[0;34m.\u001b[0m\u001b[0mopen\u001b[0m\u001b[0;34m(\u001b[0m\u001b[0mface_path\u001b[0m\u001b[0;34m)\u001b[0m\u001b[0;34m,\u001b[0m \u001b[0mdtype\u001b[0m\u001b[0;34m=\u001b[0m\u001b[0mnp\u001b[0m\u001b[0;34m.\u001b[0m\u001b[0muint8\u001b[0m\u001b[0;34m)\u001b[0m\u001b[0;34m\u001b[0m\u001b[0;34m\u001b[0m\u001b[0m\n\u001b[1;32m     45\u001b[0m \u001b[0;34m\u001b[0m\u001b[0m\n",
      "\u001b[0;32m<ipython-input-7-69c416b45bf4>\u001b[0m in \u001b[0;36mdetect_faces\u001b[0;34m(face_path)\u001b[0m\n\u001b[1;32m     34\u001b[0m \u001b[0;32mdef\u001b[0m \u001b[0mdetect_faces\u001b[0m\u001b[0;34m(\u001b[0m\u001b[0mface_path\u001b[0m\u001b[0;34m)\u001b[0m\u001b[0;34m:\u001b[0m\u001b[0;34m\u001b[0m\u001b[0;34m\u001b[0m\u001b[0m\n\u001b[1;32m     35\u001b[0m     \u001b[0;31m#img = cv2.cvtColor(cv2.imread(face_path), cv2.COLOR_BGR2RGB)\u001b[0m\u001b[0;34m\u001b[0m\u001b[0;34m\u001b[0m\u001b[0;34m\u001b[0m\u001b[0m\n\u001b[0;32m---> 36\u001b[0;31m     \u001b[0mimg\u001b[0m \u001b[0;34m=\u001b[0m \u001b[0mimage\u001b[0m\u001b[0;34m.\u001b[0m\u001b[0mload_img\u001b[0m\u001b[0;34m(\u001b[0m\u001b[0mface_path\u001b[0m\u001b[0;34m)\u001b[0m\u001b[0;34m\u001b[0m\u001b[0;34m\u001b[0m\u001b[0m\n\u001b[0m\u001b[1;32m     37\u001b[0m     \u001b[0mimg\u001b[0m \u001b[0;34m=\u001b[0m \u001b[0mimage\u001b[0m\u001b[0;34m.\u001b[0m\u001b[0mimg_to_array\u001b[0m\u001b[0;34m(\u001b[0m\u001b[0mimg\u001b[0m\u001b[0;34m)\u001b[0m\u001b[0;34m\u001b[0m\u001b[0;34m\u001b[0m\u001b[0m\n\u001b[1;32m     38\u001b[0m     \u001b[0mbox\u001b[0m \u001b[0;34m=\u001b[0m \u001b[0mdetector\u001b[0m\u001b[0;34m.\u001b[0m\u001b[0mdetect_faces\u001b[0m\u001b[0;34m(\u001b[0m\u001b[0mimg\u001b[0m\u001b[0;34m)\u001b[0m\u001b[0;34m\u001b[0m\u001b[0;34m\u001b[0m\u001b[0m\n",
      "\u001b[0;31mAttributeError\u001b[0m: module 'keras.preprocessing.image' has no attribute 'load_img'"
     ]
    }
   ],
   "source": [
    "res = draw_box(test_dir + 'trump.jpg')"
   ]
  },
  {
   "cell_type": "code",
   "execution_count": null,
   "metadata": {
    "ExecuteTime": {
     "end_time": "2020-07-24T09:54:27.865885Z",
     "start_time": "2020-07-24T09:54:26.489641Z"
    }
   },
   "outputs": [],
   "source": [
    "for img in os.listdir(test_dir)[:3]:\n",
    "    draw_box(test_dir + img)"
   ]
  },
  {
   "cell_type": "markdown",
   "metadata": {},
   "source": [
    "## Process Cropping For All test Faces"
   ]
  },
  {
   "cell_type": "code",
   "execution_count": null,
   "metadata": {
    "ExecuteTime": {
     "end_time": "2020-07-24T09:54:31.691845Z",
     "start_time": "2020-07-24T09:54:27.868192Z"
    }
   },
   "outputs": [],
   "source": [
    "from tqdm import tqdm\n",
    "import shutil\n",
    "if os.path.exists(test_processed_dir):\n",
    "    shutil.rmtree(test_processed_dir)\n",
    "os.mkdir(test_processed_dir)\n",
    "for img in tqdm(os.listdir(test_dir)):\n",
    "    box = detect_face(test_dir+img)\n",
    "    im = plt.imread(test_dir+img)\n",
    "    cropped = crop_img(im, *box['box'])\n",
    "    plt.imsave(test_processed_dir+img, crop_img(im, *box['box']))"
   ]
  },
  {
   "cell_type": "markdown",
   "metadata": {},
   "source": [
    "## Process Cropping For All train Faces"
   ]
  },
  {
   "cell_type": "code",
   "execution_count": null,
   "metadata": {
    "ExecuteTime": {
     "end_time": "2020-07-24T08:18:30.302163Z",
     "start_time": "2020-07-24T08:18:30.296313Z"
    }
   },
   "outputs": [],
   "source": [
    "def cut_negative_boundary(box):\n",
    "    res = []\n",
    "    for x in box['box']:\n",
    "        if x < 0:\n",
    "            x = 0\n",
    "        res.append(x)\n",
    "    box['box'] = res\n",
    "    return box"
   ]
  },
  {
   "cell_type": "code",
   "execution_count": null,
   "metadata": {
    "ExecuteTime": {
     "end_time": "2020-07-24T08:23:02.297360Z",
     "start_time": "2020-07-24T08:19:12.081835Z"
    }
   },
   "outputs": [],
   "source": [
    "if os.path.exists(train_processed_dir):\n",
    "    shutil.rmtree(train_processed_dir)\n",
    "os.mkdir(train_processed_dir)\n",
    "\n",
    "for img in tqdm(os.listdir(train_dir)):\n",
    "    try:\n",
    "        box = detect_face(train_dir+img)\n",
    "        box = cut_negative_boundary(box)\n",
    "        im = plt.imread(train_dir+img)\n",
    "        cropped = crop_img(im, *box['box'])\n",
    "        plt.imsave(train_processed_dir+img, cropped)\n",
    "    except:\n",
    "        print(img)\n",
    "        continue"
   ]
  },
  {
   "cell_type": "code",
   "execution_count": null,
   "metadata": {},
   "outputs": [],
   "source": []
  }
 ],
 "metadata": {
  "hide_input": false,
  "kernelspec": {
   "display_name": "Python 3",
   "language": "python",
   "name": "python3"
  },
  "language_info": {
   "codemirror_mode": {
    "name": "ipython",
    "version": 3
   },
   "file_extension": ".py",
   "mimetype": "text/x-python",
   "name": "python",
   "nbconvert_exporter": "python",
   "pygments_lexer": "ipython3",
   "version": "3.8.8"
  },
  "toc": {
   "base_numbering": 1,
   "nav_menu": {},
   "number_sections": true,
   "sideBar": true,
   "skip_h1_title": false,
   "title_cell": "Table of Contents",
   "title_sidebar": "Contents",
   "toc_cell": false,
   "toc_position": {},
   "toc_section_display": true,
   "toc_window_display": false
  }
 },
 "nbformat": 4,
 "nbformat_minor": 2
}
